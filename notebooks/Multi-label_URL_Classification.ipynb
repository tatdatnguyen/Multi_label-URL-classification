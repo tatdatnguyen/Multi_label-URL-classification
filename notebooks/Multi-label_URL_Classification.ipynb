{
 "cells": [
  {
   "cell_type": "markdown",
   "id": "15d16906",
   "metadata": {},
   "source": [
    "# Multi-label URL Classification\n"
   ]
  },
  {
   "cell_type": "code",
   "execution_count": 1,
   "id": "78a4aa03",
   "metadata": {},
   "outputs": [],
   "source": [
    "from utils import (\n",
    "    get_data,\n",
    "    get_urls_parsed,\n",
    "    get_labels,\n",
    "    get_data_splitted,\n",
    "    convert_text_to_sequences,\n",
    "    save_tokenizer,\n",
    "    save_labelbinarizer,\n",
    "    save_loss_plt,\n",
    "    save_acc_plt\n",
    ")\n",
    "from config.config import (\n",
    "    DATA_TYPE,\n",
    "    MAX_LEN,\n",
    "    RANDOM_STATE,\n",
    "    TEST_SIZE,\n",
    "    TRAINED_MODEL_OUTPUT_PATH,\n",
    "    EPOCHS,\n",
    "    BATCH_SIZE,\n",
    "    VALIDATION_SPLIT,\n",
    "    TOKENIZER_OUTPUT_PATH,\n",
    "    LABELBINARIZER_OUTPUT_PATH,\n",
    "    MODEL_NAME,\n",
    "    PLT_IMAGES_PATH\n",
    ")\n",
    "from model import train_model, evaluate_model, get_jaccard_score\n",
    "import argparse"
   ]
  },
  {
   "cell_type": "code",
   "execution_count": 2,
   "id": "9949fbf7",
   "metadata": {},
   "outputs": [
    {
     "name": "stdout",
     "output_type": "stream",
     "text": [
      "Data preprocessing...\n"
     ]
    },
    {
     "name": "stderr",
     "output_type": "stream",
     "text": [
      "100%|██████████████████████████████████| 67595/67595 [00:02<00:00, 24435.96it/s]\n"
     ]
    }
   ],
   "source": [
    "# Path by default\n",
    "# Change it if necessary\n",
    "DATA_PATH = \"./data\"\n",
    "\n",
    "# Get the data\n",
    "df = get_data(data_path=DATA_PATH, data_type=DATA_TYPE)\n",
    "\n",
    "# Get the parsed url\n",
    "all_url_parsed = get_urls_parsed(df=df)\n",
    "\n",
    "# Binarize the labels with MultiLabelBinarizer\n",
    "mlb, all_binary_labels = get_labels(df)"
   ]
  },
  {
   "cell_type": "code",
   "execution_count": 3,
   "id": "1dcf4386",
   "metadata": {},
   "outputs": [],
   "source": [
    "# Get data splitted\n",
    "train_data, test_data, y_train, y_test = get_data_splitted(all_url_parsed,\n",
    "                                                           all_binary_labels,\n",
    "                                                           random_state=RANDOM_STATE,\n",
    "                                                           test_size=TEST_SIZE)\n",
    "\n",
    "# Get the text vectors\n",
    "X_train, X_test, vocab_size, tokenizer = convert_text_to_sequences(all_text_url=all_url_parsed,\n",
    "                                                                   max_len=MAX_LEN,                                                \n",
    "                                                                   sentences_train=train_data,                                                 \n",
    "                                                                   sentences_test=test_data)"
   ]
  },
  {
   "cell_type": "code",
   "execution_count": 4,
   "id": "6c122e93",
   "metadata": {},
   "outputs": [
    {
     "name": "stderr",
     "output_type": "stream",
     "text": [
      "2021-07-23 12:42:47.381954: I tensorflow/core/platform/cpu_feature_guard.cc:142] This TensorFlow binary is optimized with oneAPI Deep Neural Network Library (oneDNN) to use the following CPU instructions in performance-critical operations:  AVX2 FMA\n",
      "To enable them in other operations, rebuild TensorFlow with the appropriate compiler flags.\n"
     ]
    },
    {
     "name": "stdout",
     "output_type": "stream",
     "text": [
      "Model: \"sequential\"\n",
      "_________________________________________________________________\n",
      "Layer (type)                 Output Shape              Param #   \n",
      "=================================================================\n",
      "embedding (Embedding)        (None, 120, 20)           1400700   \n",
      "_________________________________________________________________\n",
      "dropout (Dropout)            (None, 120, 20)           0         \n",
      "_________________________________________________________________\n",
      "conv1d (Conv1D)              (None, 118, 300)          18300     \n",
      "_________________________________________________________________\n",
      "global_max_pooling1d (Global (None, 300)               0         \n",
      "_________________________________________________________________\n",
      "dense (Dense)                (None, 1903)              572803    \n",
      "_________________________________________________________________\n",
      "activation (Activation)      (None, 1903)              0         \n",
      "=================================================================\n",
      "Total params: 1,991,803\n",
      "Trainable params: 1,991,803\n",
      "Non-trainable params: 0\n",
      "_________________________________________________________________\n"
     ]
    },
    {
     "name": "stderr",
     "output_type": "stream",
     "text": [
      "2021-07-23 12:42:47.805552: I tensorflow/compiler/mlir/mlir_graph_optimization_pass.cc:176] None of the MLIR Optimization Passes are enabled (registered 2)\n"
     ]
    },
    {
     "name": "stdout",
     "output_type": "stream",
     "text": [
      "Epoch 1/8\n",
      "1521/1521 [==============================] - 87s 47ms/step - loss: 0.0767 - acc: 0.0055 - val_loss: 0.0128 - val_acc: 0.0740\n",
      "Epoch 2/8\n",
      "1521/1521 [==============================] - 70s 46ms/step - loss: 0.0117 - acc: 0.0729 - val_loss: 0.0104 - val_acc: 0.0923\n",
      "Epoch 3/8\n",
      "1521/1521 [==============================] - 70s 46ms/step - loss: 0.0098 - acc: 0.1048 - val_loss: 0.0096 - val_acc: 0.1311\n",
      "Epoch 4/8\n",
      "1521/1521 [==============================] - 71s 46ms/step - loss: 0.0088 - acc: 0.1244 - val_loss: 0.0091 - val_acc: 0.1335\n",
      "Epoch 5/8\n",
      "1521/1521 [==============================] - 71s 47ms/step - loss: 0.0081 - acc: 0.1404 - val_loss: 0.0088 - val_acc: 0.1341\n",
      "Epoch 6/8\n",
      "1521/1521 [==============================] - 70s 46ms/step - loss: 0.0075 - acc: 0.1498 - val_loss: 0.0088 - val_acc: 0.1416\n",
      "Epoch 7/8\n",
      "1521/1521 [==============================] - 71s 46ms/step - loss: 0.0071 - acc: 0.1546 - val_loss: 0.0087 - val_acc: 0.1431\n",
      "Epoch 8/8\n",
      "1521/1521 [==============================] - 71s 47ms/step - loss: 0.0067 - acc: 0.1597 - val_loss: 0.0088 - val_acc: 0.1394\n"
     ]
    }
   ],
   "source": [
    "history = train_model(x=X_train,                        \n",
    "                      y=y_train,                         \n",
    "                      epochs=EPOCHS,                         \n",
    "                      batch_size=BATCH_SIZE,                         \n",
    "                      validation_split=VALIDATION_SPLIT,                         \n",
    "                      vocab_size=vocab_size,\n",
    "                      max_len=MAX_LEN,                         \n",
    "                      trained_model_output_path=TRAINED_MODEL_OUTPUT_PATH,                        \n",
    "                      model_name=MODEL_NAME)"
   ]
  },
  {
   "cell_type": "code",
   "execution_count": 5,
   "id": "fe3ffc77",
   "metadata": {},
   "outputs": [],
   "source": [
    "# Save the tokenizer\n",
    "save_tokenizer(tokenizer=tokenizer,\n",
    "               tokenizer_output_path=TOKENIZER_OUTPUT_PATH)"
   ]
  },
  {
   "cell_type": "code",
   "execution_count": 6,
   "id": "1e4a4391",
   "metadata": {},
   "outputs": [],
   "source": [
    "# Save MultiLabelBinarizer\n",
    "save_labelbinarizer(mlb=mlb,\n",
    "                    labelbinarizer_output_path=LABELBINARIZER_OUTPUT_PATH)"
   ]
  },
  {
   "cell_type": "code",
   "execution_count": 7,
   "id": "c94fdec1",
   "metadata": {},
   "outputs": [
    {
     "data": {
      "image/png": "[encoded data removed]",
      "text/plain": [
       "<Figure size 432x288 with 1 Axes>"
      ]
     },
     "metadata": {
      "needs_background": "light"
     },
     "output_type": "display_data"
    },
    {
     "data": {
      "image/png": "[encoded data removed]",
      "text/plain": [
       "<Figure size 432x288 with 1 Axes>"
      ]
     },
     "metadata": {
      "needs_background": "light"
     },
     "output_type": "display_data"
    }
   ],
   "source": [
    "# Save plt images\n",
    "save_loss_plt(history=history, plt_images_path=PLT_IMAGES_PATH)\n",
    "save_acc_plt(history=history, plt_images_path=PLT_IMAGES_PATH)"
   ]
  },
  {
   "cell_type": "code",
   "execution_count": 8,
   "id": "5e9ff604",
   "metadata": {},
   "outputs": [
    {
     "name": "stdout",
     "output_type": "stream",
     "text": [
      "212/212 [==============================] - 3s 14ms/step - loss: 0.0087 - acc: 0.1369\n",
      "Testing on data...\n",
      "\n",
      "Test loss : 0.00869440846145153\n",
      "Test acc : 0.13691841065883636\n"
     ]
    }
   ],
   "source": [
    "# Test the model (metrics : acc)\n",
    "results = evaluate_model(history=history, x_test=X_test, y_test=y_test)"
   ]
  },
  {
   "cell_type": "code",
   "execution_count": 9,
   "id": "7a325fdd",
   "metadata": {},
   "outputs": [
    {
     "name": "stdout",
     "output_type": "stream",
     "text": [
      "Jaccard score : 0.3354710849602403\n"
     ]
    }
   ],
   "source": [
    "# Get Jaccard score\n",
    "jaccard_score = get_jaccard_score(history=history, x_test=X_test, y_test=y_test)"
   ]
  },
  {
   "cell_type": "code",
   "execution_count": null,
   "id": "82cb6931",
   "metadata": {},
   "outputs": [],
   "source": []
  },
  {
   "cell_type": "code",
   "execution_count": null,
   "id": "886d4efc",
   "metadata": {},
   "outputs": [],
   "source": []
  }
 ],
 "metadata": {
  "kernelspec": {
   "display_name": "Python 3 (ipykernel)",
   "language": "python",
   "name": "python3"
  },
  "language_info": {
   "codemirror_mode": {
    "name": "ipython",
    "version": 3
   },
   "file_extension": ".py",
   "mimetype": "text/x-python",
   "name": "python",
   "nbconvert_exporter": "python",
   "pygments_lexer": "ipython3",
   "version": "3.8.6"
  }
 },
 "nbformat": 4,
 "nbformat_minor": 5
}
